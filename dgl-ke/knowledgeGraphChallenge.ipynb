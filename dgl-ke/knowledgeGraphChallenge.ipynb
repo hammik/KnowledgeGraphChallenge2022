{
 "cells": [
  {
   "cell_type": "code",
   "execution_count": 1,
   "metadata": {},
   "outputs": [
    {
     "name": "stdout",
     "output_type": "stream",
     "text": [
      "homeriskactivity.csv test.ipynb           train.txt\n"
     ]
    }
   ],
   "source": [
    "!ls"
   ]
  },
  {
   "cell_type": "code",
   "execution_count": 1,
   "metadata": {},
   "outputs": [
    {
     "name": "stderr",
     "output_type": "stream",
     "text": [
      "/var/folders/4c/pwmkzqlj7h56788tbtv1t5tr0000gn/T/ipykernel_12405/336853481.py:2: DtypeWarning: Columns (2) have mixed types. Specify dtype option on import or set low_memory=False.\n",
      "  df = pd.read_csv('./homeriskactivity.csv')\n"
     ]
    }
   ],
   "source": [
    "import pandas as pd\n",
    "df = pd.read_csv('./homeriskactivity.csv')"
   ]
  },
  {
   "cell_type": "code",
   "execution_count": 5,
   "metadata": {},
   "outputs": [
    {
     "ename": "KeyboardInterrupt",
     "evalue": "",
     "output_type": "error",
     "traceback": [
      "\u001b[0;31m---------------------------------------------------------------------------\u001b[0m",
      "\u001b[0;31mKeyboardInterrupt\u001b[0m                         Traceback (most recent call last)",
      "Cell \u001b[0;32mIn[5], line 8\u001b[0m\n\u001b[1;32m      6\u001b[0m \u001b[39mif\u001b[39;00m \u001b[39mnot\u001b[39;00m re\u001b[39m.\u001b[39mmatch(pattern, row[\u001b[39m0\u001b[39m]) \u001b[39mor\u001b[39;00m \u001b[39mnot\u001b[39;00m re\u001b[39m.\u001b[39mmatch(pattern, row[\u001b[39m1\u001b[39m]) \u001b[39mor\u001b[39;00m \u001b[39mnot\u001b[39;00m re\u001b[39m.\u001b[39mmatch(pattern, row[\u001b[39m2\u001b[39m]):\n\u001b[1;32m      7\u001b[0m     \u001b[39mcontinue\u001b[39;00m\n\u001b[0;32m----> 8\u001b[0m \u001b[39mwith\u001b[39;00m \u001b[39mopen\u001b[39m(\u001b[39m\"\u001b[39m\u001b[39m./train_2.txt\u001b[39m\u001b[39m\"\u001b[39m, \u001b[39m\"\u001b[39m\u001b[39ma\u001b[39m\u001b[39m\"\u001b[39m) \u001b[39mas\u001b[39;00m f:\n\u001b[1;32m      9\u001b[0m     f\u001b[39m.\u001b[39mwrite(\u001b[39m\"\u001b[39m\u001b[39m\\\"\u001b[39;00m\u001b[39m\"\u001b[39m\u001b[39m+\u001b[39mrow[\u001b[39m0\u001b[39m]\u001b[39m+\u001b[39m\u001b[39m\"\u001b[39m\u001b[39m\\\"\u001b[39;00m\u001b[39m,\u001b[39m\u001b[39m\"\u001b[39m \u001b[39m+\u001b[39m \u001b[39m\"\u001b[39m\u001b[39m\\\"\u001b[39;00m\u001b[39m\"\u001b[39m\u001b[39m+\u001b[39mrow[\u001b[39m1\u001b[39m]\u001b[39m+\u001b[39m\u001b[39m\"\u001b[39m\u001b[39m\\\"\u001b[39;00m\u001b[39m,\u001b[39m\u001b[39m\"\u001b[39m\u001b[39m\"\u001b[39m\u001b[39m\\\"\u001b[39;00m\u001b[39m\"\u001b[39m\u001b[39m+\u001b[39mrow[\u001b[39m2\u001b[39m]\u001b[39m+\u001b[39m\u001b[39m\"\u001b[39m\u001b[39m\\\"\u001b[39;00m\u001b[39m\\n\u001b[39;00m\u001b[39m\"\u001b[39m)\n",
      "\u001b[0;31mKeyboardInterrupt\u001b[0m: "
     ]
    }
   ],
   "source": [
    "import csv\n",
    "import sys\n",
    "import re\n",
    "pattern = \"https?://[\\w/:%#\\$&\\?\\(\\)~\\.=\\+\\-]+\"\n",
    "for index, row in df.iterrows():\n",
    "    if not re.match(pattern, row[0]) or not re.match(pattern, row[1]) or not re.match(pattern, row[2]):\n",
    "        continue\n",
    "    with open(\"./train_2.txt\", \"a\") as f:\n",
    "        f.write(\"\\\"\"+row[0]+\"\\\",\" + \"\\\"\"+row[1]+\"\\\",\"\"\\\"\"+row[2]+\"\\\"\\n\")"
   ]
  },
  {
   "cell_type": "code",
   "execution_count": 6,
   "metadata": {},
   "outputs": [
    {
     "name": "stdout",
     "output_type": "stream",
     "text": [
      "/Users/hammik/Documents/KnowledgeGraph/dgl-ke/python/my_task\n"
     ]
    }
   ],
   "source": [
    "%cd ../"
   ]
  },
  {
   "cell_type": "code",
   "execution_count": 7,
   "metadata": {},
   "outputs": [
    {
     "name": "stdout",
     "output_type": "stream",
     "text": [
      "Reading train triples....\n",
      "Finished. Read 1552261 train triples.\n",
      "/usr/local/lib/python3.10/site-packages/dgl/_deprecate/graph.py:1023: DGLWarning: multigraph will be deprecated.DGL will treat all graphs as multigraph in the future.\n",
      "  dgl_warning(\"multigraph will be deprecated.\" \\\n",
      "|Train|: 1552261\n",
      "Total initialize time 6.190 seconds\n",
      "[proc 0][Train](2/10) average pos_loss: 0.0003131340636173263\n",
      "[proc 0][Train](2/10) average neg_loss: 10.591350078582764\n",
      "[proc 0][Train](2/10) average loss: 5.2958314418792725\n",
      "[proc 0][Train](2/10) average regularization: 1.6827455624479626e-06\n",
      "[proc 0][Train] 2 steps take 0.468 seconds\n",
      "[proc 0]sample: 0.248, forward: 0.064, backward: 0.154, update: 0.002\n",
      "[proc 0][Train](4/10) average pos_loss: 0.1972399428486824\n",
      "[proc 0][Train](4/10) average neg_loss: 10.194532871246338\n",
      "[proc 0][Train](4/10) average loss: 5.1958863735198975\n",
      "[proc 0][Train](4/10) average regularization: 2.1031935375503963e-06\n",
      "[proc 0][Train] 2 steps take 0.006 seconds\n",
      "[proc 0]sample: 0.001, forward: 0.002, backward: 0.002, update: 0.001\n",
      "[proc 0][Train](6/10) average pos_loss: 2.2664708012598567e-05\n",
      "[proc 0][Train](6/10) average neg_loss: 12.028375625610352\n",
      "[proc 0][Train](6/10) average loss: 6.0141990184783936\n",
      "[proc 0][Train](6/10) average regularization: 1.3998899817124766e-06\n",
      "[proc 0][Train] 2 steps take 0.006 seconds\n",
      "[proc 0]sample: 0.001, forward: 0.003, backward: 0.001, update: 0.001\n",
      "[proc 0][Train](8/10) average pos_loss: 0.005593392881564796\n",
      "[proc 0][Train](8/10) average neg_loss: 9.021363735198975\n",
      "[proc 0][Train](8/10) average loss: 4.513478517532349\n",
      "[proc 0][Train](8/10) average regularization: 1.5791472947057628e-06\n",
      "[proc 0][Train] 2 steps take 0.005 seconds\n",
      "[proc 0]sample: 0.001, forward: 0.002, backward: 0.001, update: 0.000\n",
      "[proc 0][Train](10/10) average pos_loss: 0.0013556481917476049\n",
      "[proc 0][Train](10/10) average neg_loss: 9.989633083343506\n",
      "[proc 0][Train](10/10) average loss: 4.995494365692139\n",
      "[proc 0][Train](10/10) average regularization: 1.3264000244816998e-06\n",
      "[proc 0][Train] 2 steps take 0.007 seconds\n",
      "[proc 0]sample: 0.001, forward: 0.003, backward: 0.002, update: 0.001\n",
      "proc 0 takes 0.491 seconds\n",
      "training takes 0.49127721786499023 seconds\n",
      "Save model to ckpts/TransE_l2_homeriskactivity_2_1\n"
     ]
    }
   ],
   "source": [
    "!DGLBACKEND=pytorch dglke_train --model_name TransE_l2  --data_path homeriskactivity_2 --dataset homeriskactivity_2 --format raw_udd_hrt --delimiter \",\" --data_files train.txt \\\n",
    "--batch_size 2 --neg_sample_size 2 --hidden_dim 4 --gamma 19.9 --lr 0.25 --max_step 10 --log_interval 2 \\\n",
    "-adv --regularization_coef 1.00E-09 "
   ]
  },
  {
   "cell_type": "code",
   "execution_count": 11,
   "metadata": {},
   "outputs": [],
   "source": [
    "import pandas\n",
    "entities = pandas.read_csv('./homeriskactivity_2/entities.tsv', delimiter=',', header=None)"
   ]
  },
  {
   "cell_type": "code",
   "execution_count": null,
   "metadata": {},
   "outputs": [],
   "source": []
  },
  {
   "cell_type": "code",
   "execution_count": 12,
   "metadata": {},
   "outputs": [
    {
     "name": "stdout",
     "output_type": "stream",
     "text": [
      "activity:  http://example.org/virtualhome2kg/instance/admire_paintings_scene1\n",
      "193713    193713\n",
      "Name: 0, dtype: int64\n",
      "activity:  http://example.org/virtualhome2kg/instance/browse_internet_scene1\n",
      "190016    190016\n",
      "Name: 0, dtype: int64\n",
      "activity:  http://example.org/virtualhome2kg/instance/brush_teeth_scene1\n",
      "186867    186867\n",
      "Name: 0, dtype: int64\n",
      "activity:  http://example.org/virtualhome2kg/instance/carry_box_scene1\n",
      "183167    183167\n",
      "Name: 0, dtype: int64\n",
      "activity:  http://example.org/virtualhome2kg/instance/clean_desk_scene1\n",
      "110880    110880\n",
      "Name: 0, dtype: int64\n",
      "activity:  http://example.org/virtualhome2kg/instance/drink_scene1\n",
      "98795    98795\n",
      "Name: 0, dtype: int64\n",
      "activity:  http://example.org/virtualhome2kg/instance/find_some_food_scene1\n",
      "91858    91858\n",
      "Name: 0, dtype: int64\n",
      "activity:  http://example.org/virtualhome2kg/instance/go_to_sleep_scene1\n",
      "88148    88148\n",
      "Name: 0, dtype: int64\n",
      "activity:  http://example.org/virtualhome2kg/instance/go_to_toilet_scene1\n",
      "83813    83813\n",
      "Name: 0, dtype: int64\n",
      "activity:  http://example.org/virtualhome2kg/instance/prepare_breakfast_scene1\n",
      "74689    74689\n",
      "Name: 0, dtype: int64\n",
      "activity:  http://example.org/virtualhome2kg/instance/prepare_sitting_scene1\n",
      "71542    71542\n",
      "Name: 0, dtype: int64\n",
      "activity:  http://example.org/virtualhome2kg/instance/read_book_scene1\n",
      "56371    56371\n",
      "Name: 0, dtype: int64\n",
      "activity:  http://example.org/virtualhome2kg/instance/relax_on_sofa_scene1\n",
      "52110    52110\n",
      "Name: 0, dtype: int64\n",
      "activity:  http://example.org/virtualhome2kg/instance/take_a_nap_scene1\n",
      "49022    49022\n",
      "Name: 0, dtype: int64\n",
      "activity:  http://example.org/virtualhome2kg/instance/take_off_clock_scene1\n",
      "47000    47000\n",
      "Name: 0, dtype: int64\n",
      "activity:  http://example.org/virtualhome2kg/instance/use_smartphone_scene1\n",
      "39602    39602\n",
      "Name: 0, dtype: int64\n",
      "activity:  http://example.org/virtualhome2kg/instance/wash_clothes_scene1\n",
      "22082    22082\n",
      "Name: 0, dtype: int64\n",
      "activity:  http://example.org/virtualhome2kg/instance/wash_hands_scene1\n",
      "1805    1805\n",
      "Name: 0, dtype: int64\n",
      "activity:  http://example.org/virtualhome2kg/instance/wash_pillow_scene1\n",
      "18930    18930\n",
      "Name: 0, dtype: int64\n",
      "activity:  http://example.org/virtualhome2kg/instance/watch_tv_scene1\n",
      "14661    14661\n",
      "Name: 0, dtype: int64\n",
      "activity:  http://example.org/virtualhome2kg/instance/change_tv_channel_scene1\n",
      "175583    175583\n",
      "Name: 0, dtype: int64\n",
      "activity:  http://example.org/virtualhome2kg/instance/cook_food_scene1\n",
      "105421    105421\n",
      "Name: 0, dtype: int64\n",
      "activity:  http://example.org/virtualhome2kg/instance/eat_bread_scene1\n",
      "96199    96199\n",
      "Name: 0, dtype: int64\n",
      "activity:  http://example.org/virtualhome2kg/instance/leaving_room_scene1\n",
      "10325    10325\n",
      "Name: 0, dtype: int64\n",
      "activity:  http://example.org/virtualhome2kg/instance/prepare_dinner_scene1\n",
      "4945    4945\n",
      "Name: 0, dtype: int64\n",
      "activity:  http://example.org/virtualhome2kg/instance/prepare_go_out_scene1\n",
      "78451    78451\n",
      "Name: 0, dtype: int64\n",
      "activity:  http://example.org/virtualhome2kg/instance/put_food_in_fridge_scene1\n",
      "60075    60075\n",
      "Name: 0, dtype: int64\n",
      "activity:  http://example.org/virtualhome2kg/instance/throw_in_the_garbage_scene1\n",
      "43861    43861\n",
      "Name: 0, dtype: int64\n",
      "activity:  http://example.org/virtualhome2kg/instance/cook_some_food_scene1\n",
      "30099    30099\n",
      "Name: 0, dtype: int64\n",
      "activity:  http://example.org/virtualhome2kg/instance/wash_fry_pan_scene1\n",
      "25813    25813\n",
      "Name: 0, dtype: int64\n",
      "activity:  http://example.org/virtualhome2kg/instance/clean_fridge_scene1\n",
      "158131    158131\n",
      "Name: 0, dtype: int64\n",
      "activity:  http://example.org/virtualhome2kg/instance/clean_kitchen_table_scene1\n",
      "143772    143772\n",
      "Name: 0, dtype: int64\n",
      "activity:  http://example.org/virtualhome2kg/instance/clean_kitchen_television_scene1\n",
      "138359    138359\n",
      "Name: 0, dtype: int64\n",
      "activity:  http://example.org/virtualhome2kg/instance/clean_living_desk_scene1\n",
      "125703    125703\n",
      "Name: 0, dtype: int64\n",
      "activity:  http://example.org/virtualhome2kg/instance/clean_stove_scene1\n",
      "114049    114049\n",
      "Name: 0, dtype: int64\n",
      "activity:  http://example.org/virtualhome2kg/instance/put_groceries_in_fridge_scene1\n",
      "66674    66674\n",
      "Name: 0, dtype: int64\n"
     ]
    }
   ],
   "source": [
    "from rdflib import *\n",
    "from SPARQLWrapper import SPARQLWrapper, JSON\n",
    "\n",
    "activities = []\n",
    "queryString = \"\"\"\n",
    "PREFIX ex: <http://example.org/virtualhome2kg/instance/>\n",
    "PREFIX : <http://example.org/virtualhome2kg/ontology/>\n",
    "select DISTINCT * where {\n",
    "    ?activity :virtualHome ex:scene1 .\n",
    "} \n",
    "\"\"\"\n",
    "endpointURI = \"http://kgrc4si.ml:7200/repositories/KGRC4SIv0\"\n",
    "sparql = SPARQLWrapper(endpointURI)\n",
    "sparql.setQuery(queryString)\n",
    "sparql.setReturnFormat(JSON)\n",
    "\n",
    "json = sparql.query().convert()\n",
    "bindings = json['results']['bindings']\n",
    "results = bindings\n",
    "for entity in results:\n",
    "  activities.append(entity[\"activity\"][\"value\"])\n",
    "\n",
    "for a in activities:\n",
    "    print(\"activity: \", a)\n",
    "    print(entities.loc[entities[1] == a,0])\n",
    "    with open(\"./head.list\", \"a\") as f:\n",
    "        f.write(str(entities.loc[entities[1] == a][0].tolist()[0])+\"\\n\")"
   ]
  },
  {
   "cell_type": "code",
   "execution_count": 13,
   "metadata": {},
   "outputs": [
    {
     "name": "stdout",
     "output_type": "stream",
     "text": [
      "ckpts/TransE_l2_homeriskactivity_2_0/config.json\n",
      "{'model_name': 'TransE_l2', 'data_path': 'homeriskactivity_2', 'dataset': 'homeriskactivity_2', 'format': 'raw_udd_hrt', 'data_files': ['train.txt'], 'delimiter': ',', 'save_path': 'ckpts/TransE_l2_homeriskactivity_2_0', 'no_save_emb': False, 'max_step': 10, 'batch_size': 2, 'batch_size_eval': 8, 'neg_sample_size': 2, 'neg_deg_sample': False, 'neg_deg_sample_eval': False, 'neg_sample_size_eval': 197528, 'eval_percent': 1, 'no_eval_filter': False, 'log_interval': 2, 'eval_interval': 10000, 'test': False, 'num_proc': 1, 'num_thread': 1, 'force_sync_interval': -1, 'hidden_dim': 4, 'lr': 0.25, 'gamma': 19.9, 'double_ent': False, 'double_rel': False, 'neg_adversarial_sampling': True, 'adversarial_temperature': 1.0, 'regularization_coef': 1e-09, 'regularization_norm': 3, 'pairwise': False, 'loss_genre': 'Logsigmoid', 'margin': 1.0, 'gpu': [-1], 'mix_cpu_gpu': False, 'valid': False, 'rel_part': False, 'async_update': False, 'has_edge_importance': False, 'eval_filter': True, 'soft_rel_part': False, 'strict_rel_part': False, 'num_workers': 8, 'emp_file': 'entities.tsv', 'rmap_file': 'relations.tsv'}\n",
      "Inference Done\n",
      "The result is saved in result.tsv\n"
     ]
    }
   ],
   "source": [
    "!DGLBACKEND=pytorch dglke_predict --model_path ckpts/TransE_l2_homeriskactivity_2_0/ --format 'h_r_*' --data_files homeriskactivity_2/head.list homeriskactivity_2/relation.list --score_func logsigmoid --topK 5 --exec_mode 'batch_head'"
   ]
  },
  {
   "cell_type": "code",
   "execution_count": 16,
   "metadata": {},
   "outputs": [],
   "source": [
    "result = pandas.read_csv('./result.tsv', delimiter='\\t')"
   ]
  },
  {
   "cell_type": "code",
   "execution_count": 17,
   "metadata": {},
   "outputs": [],
   "source": [
    "relations = pandas.read_csv('./homeriskactivity_2/relations.tsv', delimiter=',', header=None)\n",
    "import csv\n",
    "for index, row in result.iterrows():   \n",
    "    #a = entities.loc[entities[0] == row['head'],:]\n",
    "    head = entities.loc[entities[0] == row['head']][1].tolist()[0]\n",
    "    rel = relations.loc[relations[0] == row['rel']][1].tolist()[0]\n",
    "    tail = entities.loc[entities[0] == row['tail']][1].tolist()[0]\n",
    "\n",
    "    if \"event\" in tail:\n",
    "        with open(\"./riskFactor_predict_link.csv\", \"a\") as f:\n",
    "            writer = csv.writer(f)\n",
    "            writer.writerow([head, rel, tail])"
   ]
  },
  {
   "cell_type": "code",
   "execution_count": 18,
   "metadata": {},
   "outputs": [
    {
     "name": "stdout",
     "output_type": "stream",
     "text": [
      "Inference Done\n",
      "The result is saved in result.tsv\n"
     ]
    }
   ],
   "source": [
    "!DGLBACKEND=pytorch dglke_emb_sim --emb_file ckpts/TransE_l2_homeriskactivity_2_0/homeriskactivity_2_TransE_l2_entity.npy --format 'l_*' --data_files homeriskactivity_2/head_lisk.list  --topK 10000"
   ]
  },
  {
   "cell_type": "code",
   "execution_count": 19,
   "metadata": {},
   "outputs": [],
   "source": [
    "result = pandas.read_csv('./result.tsv', delimiter='\\t')"
   ]
  },
  {
   "cell_type": "code",
   "execution_count": 20,
   "metadata": {},
   "outputs": [],
   "source": [
    "import csv\n",
    "for index, row in result.iterrows():   \n",
    "    #a = entities.loc[entities[0] == row['head'],:]\n",
    "    left = entities.loc[entities[0] == row['left']][1].tolist()[0]\n",
    "    right = entities.loc[entities[0] == row['right']][1].tolist()[0]\n",
    "    score = row['score']\n",
    "    if \"event\" in right:\n",
    "        with open(\"./riskFactor_5.csv\", \"a\") as f:\n",
    "            writer = csv.writer(f)\n",
    "            writer.writerow([left, right, score])"
   ]
  },
  {
   "cell_type": "code",
   "execution_count": null,
   "metadata": {},
   "outputs": [],
   "source": []
  }
 ],
 "metadata": {
  "kernelspec": {
   "display_name": "Python 3",
   "language": "python",
   "name": "python3"
  },
  "language_info": {
   "codemirror_mode": {
    "name": "ipython",
    "version": 3
   },
   "file_extension": ".py",
   "mimetype": "text/x-python",
   "name": "python",
   "nbconvert_exporter": "python",
   "pygments_lexer": "ipython3",
   "version": "3.10.8 (main, Oct 13 2022, 10:17:43) [Clang 14.0.0 (clang-1400.0.29.102)]"
  },
  "orig_nbformat": 4,
  "vscode": {
   "interpreter": {
    "hash": "aee8b7b246df8f9039afb4144a1f6fd8d2ca17a180786b69acc140d282b71a49"
   }
  }
 },
 "nbformat": 4,
 "nbformat_minor": 2
}
